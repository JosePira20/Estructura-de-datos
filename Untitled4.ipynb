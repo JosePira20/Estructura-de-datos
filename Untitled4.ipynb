{
  "nbformat": 4,
  "nbformat_minor": 0,
  "metadata": {
    "colab": {
      "provenance": [],
      "authorship_tag": "ABX9TyMXSC7zfb7BZ2K4ZttoSYSJ",
      "include_colab_link": true
    },
    "kernelspec": {
      "name": "python3",
      "display_name": "Python 3"
    },
    "language_info": {
      "name": "python"
    }
  },
  "cells": [
    {
      "cell_type": "markdown",
      "metadata": {
        "id": "view-in-github",
        "colab_type": "text"
      },
      "source": [
        "<a href=\"https://colab.research.google.com/github/JosePira20/Estructura-de-datos/blob/main/Untitled4.ipynb\" target=\"_parent\"><img src=\"https://colab.research.google.com/assets/colab-badge.svg\" alt=\"Open In Colab\"/></a>"
      ]
    },
    {
      "cell_type": "code",
      "execution_count": null,
      "metadata": {
        "id": "pHgSKNnRFeui"
      },
      "outputs": [],
      "source": [
        "import re\n",
        "from collections import Counter\n",
        "\n",
        "# Patrones regex para direcciones IP y códigos de estado HTTP\n",
        "patron_ip = r'\\b(?:\\d{1,3}\\.){3}\\d{1,3}\\b'\n",
        "patron_codigo = r'\\b(\\d{3})\\b'\n",
        "\n",
        "# Estructuras optimizadas\n",
        "conteo_codigos = Counter()\n",
        "ips_unicas = set()\n",
        "\n",
        "# Ruta del archivo de log\n",
        "archivo_log = r\"C:\\\\Users\\\\jose\\\\Desktop\\\\Log\\\\access.log\"\n",
        "\n",
        "try:\n",
        "    with open(archivo_log, \"r\", encoding=\"utf-8\") as archivo:\n",
        "        for registro in archivo:  # Procesa línea por línea sin cargar todo en memoria\n",
        "            ip_encontrada = re.search(patron_ip, registro)\n",
        "            codigo_encontrado = re.search(patron_codigo, registro)\n",
        "\n",
        "            if ip_encontrada:\n",
        "                ips_unicas.add(ip_encontrada.group())\n",
        "\n",
        "            if codigo_encontrado:\n",
        "                conteo_codigos[codigo_encontrado.group()] += 1\n",
        "\n",
        "    # Mostrar siempre el título\n",
        "    print(\"Listado de IPs únicas:\")\n",
        "    if ips_unicas:\n",
        "        for direccion in sorted(ips_unicas):\n",
        "            print(direccion)\n",
        "    else:\n",
        "        print(\"No se encontraron direcciones IP en el archivo de log.\")\n",
        "\n",
        "    # Mostrar siempre los códigos de error\n",
        "    print(\"\\nFrecuencia de códigos de error:\")\n",
        "    if conteo_codigos:\n",
        "        for codigo, cantidad in sorted(conteo_codigos.items()):\n",
        "            print(f\"Código {codigo}: {cantidad} errores\")\n",
        "    else:\n",
        "        print(\"No se encontraron códigos de estado en el archivo de log.\")\n",
        "\n",
        "except FileNotFoundError:\n",
        "    print(f\"No se pudo localizar el archivo en la ruta: {archivo_log}\")\n",
        "except Exception as error:\n",
        "    print(f\"Se ha producido un error inesperado: {error}\")\n"
      ]
    }
  ]
}